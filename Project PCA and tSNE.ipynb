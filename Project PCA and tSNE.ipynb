{
 "cells": [
  {
   "cell_type": "markdown",
   "metadata": {
    "id": "_Ioq6KPw64VM"
   },
   "source": [
    "---------------------\n",
    "# Project: PCA and tSNE\n",
    "- **Marks: 25**\n",
    "--------------------\n",
    "\n",
    "Dear Learner,\n",
    "Welcome to the project on PCA and tSNE. In this project, we aim to generate and visualise the pca and tsne embeddings for iris flower(read more about the plant <a href = \"https://en.wikipedia.org/wiki/Iris_(plant)\">here</a>) dataset.\n",
    "\n",
    "<br>\n",
    "\n",
    "---------------------\n",
    "## Background and about data\n",
    "--------------------\n",
    "\n",
    "We have learnt that PCA and tSNE can be used to represent a high dimensional data in lower dimesions thus enabling us to visualise the same.\n",
    "The dataset used here is a classic dataset to study multiclass classification - Iris plant dataset. Every data science surely comes across this dataset in their journey and it has been subject for a lot of research as well. The data has 3 types of the iris flower -  \n",
    "- Iris-Setosa\n",
    "- Iris-Versicolour\n",
    "- Iris-Virginica\n",
    "\n",
    "Four different features are described for these 3 types which are-\n",
    "\n",
    "- sepal length (cm)\t\n",
    "- sepal width (cm)\t\n",
    "- petal length (cm)\t\n",
    "- petal width (cm)\n",
    "\n",
    "<br>\n",
    "\n",
    "-----------------------\n",
    "## Objective\n",
    "-------------------------\n",
    "\n",
    "- The idea in this project is to read the data from sklearn.datasets, load it into a dataframe appropriately, do some basic data exploration and then visualize using the 2D embeddings from PCA and tSNE to check if the types are reflected well in these visualisations.\n",
    "\n",
    "\n",
    "-------------------\n",
    "## Guidelines\n",
    "-------------------\n",
    "\n",
    "- The exercise consists of semi written code blocks. You need to fill the blocks as per the instructions to achieve the required results.\n",
    "- To be able to complete the assessment in the expected time, do not change the variable names. The codes might throw errors when the names are changed.\n",
    "- You can raise your issues on the discussion forum on the Olympus.\n",
    "You can use Jupyter Notebook/ Google Colab(recommended) for this assessment.\n",
    "- Uncomment the code snippets and work on them\n",
    "- All the requirements have been numbered. You can treat them as question numbers. Marks are also added in the requirement statement.\n",
    "\n",
    "\n",
    "--------------------\n",
    "## Resources\n",
    "---------------------\n",
    "\n",
    "- Documentation PCA - https://scikit-learn.org/stable/modules/generated/sklearn.decomposition.PCA.html\n",
    "- Documnetation tSNE - https://scikit-learn.org/stable/modules/generated/sklearn.manifold.TSNE.html\n",
    "\n"
   ]
  },
  {
   "cell_type": "markdown",
   "metadata": {
    "id": "q1jHHmKT_isb"
   },
   "source": [
    "### Import the required packages"
   ]
  },
  {
   "cell_type": "code",
   "execution_count": 43,
   "metadata": {
    "id": "k0r2U2O060Ti"
   },
   "outputs": [],
   "source": [
    "import pandas as pd\n",
    "import matplotlib.pyplot as plt\n",
    "import seaborn as sns\n"
   ]
  },
  {
   "cell_type": "markdown",
   "metadata": {
    "id": "I_REzQOF_o31"
   },
   "source": [
    "### 1. Load the iris data from sklearn.datasets (2 marks)"
   ]
  },
  {
   "cell_type": "code",
   "execution_count": 44,
   "metadata": {
    "id": "Q5uJmADTx1Io"
   },
   "outputs": [],
   "source": [
    "  \n",
    "from sklearn.datasets import load_iris\n",
    "iris= load_iris()"
   ]
  },
  {
   "cell_type": "code",
   "execution_count": 45,
   "metadata": {
    "id": "X9fIIWI2yeiB"
   },
   "outputs": [
    {
     "name": "stdout",
     "output_type": "stream",
     "text": [
      ".. _iris_dataset:\n",
      "\n",
      "Iris plants dataset\n",
      "--------------------\n",
      "\n",
      "**Data Set Characteristics:**\n",
      "\n",
      "    :Number of Instances: 150 (50 in each of three classes)\n",
      "    :Number of Attributes: 4 numeric, predictive attributes and the class\n",
      "    :Attribute Information:\n",
      "        - sepal length in cm\n",
      "        - sepal width in cm\n",
      "        - petal length in cm\n",
      "        - petal width in cm\n",
      "        - class:\n",
      "                - Iris-Setosa\n",
      "                - Iris-Versicolour\n",
      "                - Iris-Virginica\n",
      "                \n",
      "    :Summary Statistics:\n",
      "\n",
      "    ============== ==== ==== ======= ===== ====================\n",
      "                    Min  Max   Mean    SD   Class Correlation\n",
      "    ============== ==== ==== ======= ===== ====================\n",
      "    sepal length:   4.3  7.9   5.84   0.83    0.7826\n",
      "    sepal width:    2.0  4.4   3.05   0.43   -0.4194\n",
      "    petal length:   1.0  6.9   3.76   1.76    0.9490  (high!)\n",
      "    petal width:    0.1  2.5   1.20   0.76    0.9565  (high!)\n",
      "    ============== ==== ==== ======= ===== ====================\n",
      "\n",
      "    :Missing Attribute Values: None\n",
      "    :Class Distribution: 33.3% for each of 3 classes.\n",
      "    :Creator: R.A. Fisher\n",
      "    :Donor: Michael Marshall (MARSHALL%PLU@io.arc.nasa.gov)\n",
      "    :Date: July, 1988\n",
      "\n",
      "The famous Iris database, first used by Sir R.A. Fisher. The dataset is taken\n",
      "from Fisher's paper. Note that it's the same as in R, but not as in the UCI\n",
      "Machine Learning Repository, which has two wrong data points.\n",
      "\n",
      "This is perhaps the best known database to be found in the\n",
      "pattern recognition literature.  Fisher's paper is a classic in the field and\n",
      "is referenced frequently to this day.  (See Duda & Hart, for example.)  The\n",
      "data set contains 3 classes of 50 instances each, where each class refers to a\n",
      "type of iris plant.  One class is linearly separable from the other 2; the\n",
      "latter are NOT linearly separable from each other.\n",
      "\n",
      ".. topic:: References\n",
      "\n",
      "   - Fisher, R.A. \"The use of multiple measurements in taxonomic problems\"\n",
      "     Annual Eugenics, 7, Part II, 179-188 (1936); also in \"Contributions to\n",
      "     Mathematical Statistics\" (John Wiley, NY, 1950).\n",
      "   - Duda, R.O., & Hart, P.E. (1973) Pattern Classification and Scene Analysis.\n",
      "     (Q327.D83) John Wiley & Sons.  ISBN 0-471-22361-1.  See page 218.\n",
      "   - Dasarathy, B.V. (1980) \"Nosing Around the Neighborhood: A New System\n",
      "     Structure and Classification Rule for Recognition in Partially Exposed\n",
      "     Environments\".  IEEE Transactions on Pattern Analysis and Machine\n",
      "     Intelligence, Vol. PAMI-2, No. 1, 67-71.\n",
      "   - Gates, G.W. (1972) \"The Reduced Nearest Neighbor Rule\".  IEEE Transactions\n",
      "     on Information Theory, May 1972, 431-433.\n",
      "   - See also: 1988 MLC Proceedings, 54-64.  Cheeseman et al\"s AUTOCLASS II\n",
      "     conceptual clustering system finds 3 classes in the data.\n",
      "   - Many, many more ...\n"
     ]
    }
   ],
   "source": [
    "# Uncomment below to know more about the dataset\n",
    "print(iris.DESCR)"
   ]
  },
  {
   "cell_type": "code",
   "execution_count": 46,
   "metadata": {
    "id": "ALF5jdlyvEEw"
   },
   "outputs": [],
   "source": [
    "# Now that we have loaded the data, let us extract the features, targets and feature names\n",
    "\n",
    "iris_x = iris.data\n",
    "iris_y = iris.target\n",
    "column_names = iris.feature_names\n"
   ]
  },
  {
   "cell_type": "code",
   "execution_count": 47,
   "metadata": {
    "colab": {
     "base_uri": "https://localhost:8080/",
     "height": 406
    },
    "executionInfo": {
     "elapsed": 1515,
     "status": "ok",
     "timestamp": 1604086881210,
     "user": {
      "displayName": "Shrish Chandra Pandey",
      "photoUrl": "",
      "userId": "03777729159992968707"
     },
     "user_tz": -330
    },
    "id": "qDOGjektAZru",
    "outputId": "5232f37a-6f0a-42d1-d992-b4081671572b"
   },
   "outputs": [
    {
     "data": {
      "text/html": [
       "<div>\n",
       "<style scoped>\n",
       "    .dataframe tbody tr th:only-of-type {\n",
       "        vertical-align: middle;\n",
       "    }\n",
       "\n",
       "    .dataframe tbody tr th {\n",
       "        vertical-align: top;\n",
       "    }\n",
       "\n",
       "    .dataframe thead th {\n",
       "        text-align: right;\n",
       "    }\n",
       "</style>\n",
       "<table border=\"1\" class=\"dataframe\">\n",
       "  <thead>\n",
       "    <tr style=\"text-align: right;\">\n",
       "      <th></th>\n",
       "      <th>sepal length (cm)</th>\n",
       "      <th>sepal width (cm)</th>\n",
       "      <th>petal length (cm)</th>\n",
       "      <th>petal width (cm)</th>\n",
       "      <th>Y</th>\n",
       "    </tr>\n",
       "  </thead>\n",
       "  <tbody>\n",
       "    <tr>\n",
       "      <th>0</th>\n",
       "      <td>5.1</td>\n",
       "      <td>3.5</td>\n",
       "      <td>1.4</td>\n",
       "      <td>0.2</td>\n",
       "      <td>0</td>\n",
       "    </tr>\n",
       "    <tr>\n",
       "      <th>1</th>\n",
       "      <td>4.9</td>\n",
       "      <td>3.0</td>\n",
       "      <td>1.4</td>\n",
       "      <td>0.2</td>\n",
       "      <td>0</td>\n",
       "    </tr>\n",
       "    <tr>\n",
       "      <th>2</th>\n",
       "      <td>4.7</td>\n",
       "      <td>3.2</td>\n",
       "      <td>1.3</td>\n",
       "      <td>0.2</td>\n",
       "      <td>0</td>\n",
       "    </tr>\n",
       "    <tr>\n",
       "      <th>3</th>\n",
       "      <td>4.6</td>\n",
       "      <td>3.1</td>\n",
       "      <td>1.5</td>\n",
       "      <td>0.2</td>\n",
       "      <td>0</td>\n",
       "    </tr>\n",
       "    <tr>\n",
       "      <th>4</th>\n",
       "      <td>5.0</td>\n",
       "      <td>3.6</td>\n",
       "      <td>1.4</td>\n",
       "      <td>0.2</td>\n",
       "      <td>0</td>\n",
       "    </tr>\n",
       "    <tr>\n",
       "      <th>...</th>\n",
       "      <td>...</td>\n",
       "      <td>...</td>\n",
       "      <td>...</td>\n",
       "      <td>...</td>\n",
       "      <td>...</td>\n",
       "    </tr>\n",
       "    <tr>\n",
       "      <th>145</th>\n",
       "      <td>6.7</td>\n",
       "      <td>3.0</td>\n",
       "      <td>5.2</td>\n",
       "      <td>2.3</td>\n",
       "      <td>2</td>\n",
       "    </tr>\n",
       "    <tr>\n",
       "      <th>146</th>\n",
       "      <td>6.3</td>\n",
       "      <td>2.5</td>\n",
       "      <td>5.0</td>\n",
       "      <td>1.9</td>\n",
       "      <td>2</td>\n",
       "    </tr>\n",
       "    <tr>\n",
       "      <th>147</th>\n",
       "      <td>6.5</td>\n",
       "      <td>3.0</td>\n",
       "      <td>5.2</td>\n",
       "      <td>2.0</td>\n",
       "      <td>2</td>\n",
       "    </tr>\n",
       "    <tr>\n",
       "      <th>148</th>\n",
       "      <td>6.2</td>\n",
       "      <td>3.4</td>\n",
       "      <td>5.4</td>\n",
       "      <td>2.3</td>\n",
       "      <td>2</td>\n",
       "    </tr>\n",
       "    <tr>\n",
       "      <th>149</th>\n",
       "      <td>5.9</td>\n",
       "      <td>3.0</td>\n",
       "      <td>5.1</td>\n",
       "      <td>1.8</td>\n",
       "      <td>2</td>\n",
       "    </tr>\n",
       "  </tbody>\n",
       "</table>\n",
       "<p>150 rows × 5 columns</p>\n",
       "</div>"
      ],
      "text/plain": [
       "     sepal length (cm)  sepal width (cm)  petal length (cm)  petal width (cm)  \\\n",
       "0                  5.1               3.5                1.4               0.2   \n",
       "1                  4.9               3.0                1.4               0.2   \n",
       "2                  4.7               3.2                1.3               0.2   \n",
       "3                  4.6               3.1                1.5               0.2   \n",
       "4                  5.0               3.6                1.4               0.2   \n",
       "..                 ...               ...                ...               ...   \n",
       "145                6.7               3.0                5.2               2.3   \n",
       "146                6.3               2.5                5.0               1.9   \n",
       "147                6.5               3.0                5.2               2.0   \n",
       "148                6.2               3.4                5.4               2.3   \n",
       "149                5.9               3.0                5.1               1.8   \n",
       "\n",
       "     Y  \n",
       "0    0  \n",
       "1    0  \n",
       "2    0  \n",
       "3    0  \n",
       "4    0  \n",
       "..  ..  \n",
       "145  2  \n",
       "146  2  \n",
       "147  2  \n",
       "148  2  \n",
       "149  2  \n",
       "\n",
       "[150 rows x 5 columns]"
      ]
     },
     "execution_count": 47,
     "metadata": {},
     "output_type": "execute_result"
    }
   ],
   "source": [
    "#Pass the iris data to create a dataframe without the target column\n",
    "# Uncomment below\n",
    "iris_df = pd.DataFrame(iris.data)\n",
    "\n",
    "# name the column header using the column names retrieved above \n",
    "# Uncomment below\n",
    "# iris_df.columns = ________\n",
    "iris_df.columns = ['sepal length (cm)',\n",
    " 'sepal width (cm)',\n",
    " 'petal length (cm)',\n",
    " 'petal width (cm)']\n",
    "\n",
    "# Add the target column to the dataframe using the iris target\n",
    "# Uncomment below\n",
    "iris_df['Y'] = iris_y\n",
    "iris_df"
   ]
  },
  {
   "cell_type": "markdown",
   "metadata": {
    "id": "zIsFUB_ZCsfN"
   },
   "source": [
    "### 3. We have learnt that there are 3 types of flowers in this dataset represented by 0,1 and 2 in the Y column. Create a boxplot by completing the function below that plots the distribution of the features over different types. (3 marks)"
   ]
  },
  {
   "cell_type": "code",
   "execution_count": 48,
   "metadata": {
    "colab": {
     "base_uri": "https://localhost:8080/",
     "height": 420
    },
    "executionInfo": {
     "elapsed": 2206,
     "status": "ok",
     "timestamp": 1604087263577,
     "user": {
      "displayName": "Shrish Chandra Pandey",
      "photoUrl": "",
      "userId": "03777729159992968707"
     },
     "user_tz": -330
    },
    "id": "mNHZ3w1Y4teK",
    "outputId": "60c6d29f-2cb5-40fe-acfc-4d48afd2a3f5"
   },
   "outputs": [
    {
     "data": {
      "image/png": "[encoded data removed]",
      "text/plain": [
       "<Figure size 1080x432 with 5 Axes>"
      ]
     },
     "metadata": {
      "needs_background": "light"
     },
     "output_type": "display_data"
    }
   ],
   "source": [
    "# Use the column that stores the type of flower in by argument\n",
    "\n",
    "iris_df.boxplot(by = 'Y', layout = (1,5), figsize=(15,6) )\n",
    "plt.show()"
   ]
  },
  {
   "cell_type": "code",
   "execution_count": 49,
   "metadata": {
    "colab": {
     "base_uri": "https://localhost:8080/",
     "height": 364
    },
    "executionInfo": {
     "elapsed": 1745,
     "status": "ok",
     "timestamp": 1604087648846,
     "user": {
      "displayName": "Shrish Chandra Pandey",
      "photoUrl": "",
      "userId": "03777729159992968707"
     },
     "user_tz": -330
    },
    "id": "eYYK6q01zga2",
    "outputId": "2338eb6f-707e-427d-fe85-0230eade274f"
   },
   "outputs": [
    {
     "data": {
      "text/plain": [
       "<matplotlib.axes._subplots.AxesSubplot at 0x1de3730e310>"
      ]
     },
     "execution_count": 49,
     "metadata": {},
     "output_type": "execute_result"
    },
    {
     "data": {
      "image/png": "[encoded data removed]",
      "text/plain": [
       "<Figure size 432x288 with 2 Axes>"
      ]
     },
     "metadata": {
      "needs_background": "light"
     },
     "output_type": "display_data"
    }
   ],
   "source": [
    "sns.heatmap(iris_df[column_names].corr(), annot = True)"
   ]
  },
  {
   "cell_type": "markdown",
   "metadata": {
    "id": "tGUzJjKCEbuE"
   },
   "source": [
    "### 4. Generate the covariance heatmap (2 marks)\n",
    "\n"
   ]
  },
  {
   "cell_type": "code",
   "execution_count": 50,
   "metadata": {},
   "outputs": [
    {
     "data": {
      "text/plain": [
       "<matplotlib.axes._subplots.AxesSubplot at 0x1de3729a340>"
      ]
     },
     "execution_count": 50,
     "metadata": {},
     "output_type": "execute_result"
    },
    {
     "data": {
      "image/png": "[encoded data removed]",
      "text/plain": [
       "<Figure size 432x288 with 2 Axes>"
      ]
     },
     "metadata": {
      "needs_background": "light"
     },
     "output_type": "display_data"
    }
   ],
   "source": [
    "sns.heatmap(iris_df[column_names].corr()*3, annot = True)"
   ]
  },
  {
   "cell_type": "code",
   "execution_count": 51,
   "metadata": {
    "colab": {
     "base_uri": "https://localhost:8080/",
     "height": 361
    },
    "executionInfo": {
     "elapsed": 2089,
     "status": "ok",
     "timestamp": 1604087670233,
     "user": {
      "displayName": "Shrish Chandra Pandey",
      "photoUrl": "",
      "userId": "03777729159992968707"
     },
     "user_tz": -330
    },
    "id": "mty_45cVEzHv",
    "outputId": "4f51690a-5299-4858-e589-69f36bd972c9"
   },
   "outputs": [],
   "source": [
    "#Your code here"
   ]
  },
  {
   "cell_type": "markdown",
   "metadata": {
    "id": "nfER_sWeDoz6"
   },
   "source": [
    "### 5. Implement PCA with two components (5 marks)\n",
    "- Import and initialise the PCA object with 2 components (2 marks)\n",
    "- Transform the data with relevant column only.(2 marks)\n",
    "- Give names 'X1' and 'X2' to the columns (1 mark)\n"
   ]
  },
  {
   "cell_type": "code",
   "execution_count": 53,
   "metadata": {
    "id": "CUc7bQDfzuhb"
   },
   "outputs": [],
   "source": [
    "# Uncomment below\n",
    "\n",
    "from sklearn.decomposition import PCA\n",
    "\n",
    "pca = PCA(n_components= 2)\n",
    "\n",
    "iris_pca = pca.fit_transform(iris_df[['sepal length (cm)',\n",
    " 'sepal width (cm)',\n",
    " 'petal length (cm)',\n",
    " 'petal width (cm)']])\n",
    " \n",
    "\n",
    "# Uncomment below\n",
    "iris_pca = pd.DataFrame(iris_pca)\n",
    "\n",
    "# Uncomment below\n",
    "iris_pca.columns = ['X1', 'X2']\n",
    "iris_pca[\"target\"] = iris_y"
   ]
  },
  {
   "cell_type": "code",
   "execution_count": 54,
   "metadata": {},
   "outputs": [
    {
     "data": {
      "text/html": [
       "<div>\n",
       "<style scoped>\n",
       "    .dataframe tbody tr th:only-of-type {\n",
       "        vertical-align: middle;\n",
       "    }\n",
       "\n",
       "    .dataframe tbody tr th {\n",
       "        vertical-align: top;\n",
       "    }\n",
       "\n",
       "    .dataframe thead th {\n",
       "        text-align: right;\n",
       "    }\n",
       "</style>\n",
       "<table border=\"1\" class=\"dataframe\">\n",
       "  <thead>\n",
       "    <tr style=\"text-align: right;\">\n",
       "      <th></th>\n",
       "      <th>X1</th>\n",
       "      <th>X2</th>\n",
       "      <th>target</th>\n",
       "    </tr>\n",
       "  </thead>\n",
       "  <tbody>\n",
       "    <tr>\n",
       "      <th>0</th>\n",
       "      <td>-2.684126</td>\n",
       "      <td>0.319397</td>\n",
       "      <td>0</td>\n",
       "    </tr>\n",
       "    <tr>\n",
       "      <th>1</th>\n",
       "      <td>-2.714142</td>\n",
       "      <td>-0.177001</td>\n",
       "      <td>0</td>\n",
       "    </tr>\n",
       "    <tr>\n",
       "      <th>2</th>\n",
       "      <td>-2.888991</td>\n",
       "      <td>-0.144949</td>\n",
       "      <td>0</td>\n",
       "    </tr>\n",
       "    <tr>\n",
       "      <th>3</th>\n",
       "      <td>-2.745343</td>\n",
       "      <td>-0.318299</td>\n",
       "      <td>0</td>\n",
       "    </tr>\n",
       "    <tr>\n",
       "      <th>4</th>\n",
       "      <td>-2.728717</td>\n",
       "      <td>0.326755</td>\n",
       "      <td>0</td>\n",
       "    </tr>\n",
       "    <tr>\n",
       "      <th>...</th>\n",
       "      <td>...</td>\n",
       "      <td>...</td>\n",
       "      <td>...</td>\n",
       "    </tr>\n",
       "    <tr>\n",
       "      <th>145</th>\n",
       "      <td>1.944110</td>\n",
       "      <td>0.187532</td>\n",
       "      <td>2</td>\n",
       "    </tr>\n",
       "    <tr>\n",
       "      <th>146</th>\n",
       "      <td>1.527167</td>\n",
       "      <td>-0.375317</td>\n",
       "      <td>2</td>\n",
       "    </tr>\n",
       "    <tr>\n",
       "      <th>147</th>\n",
       "      <td>1.764346</td>\n",
       "      <td>0.078859</td>\n",
       "      <td>2</td>\n",
       "    </tr>\n",
       "    <tr>\n",
       "      <th>148</th>\n",
       "      <td>1.900942</td>\n",
       "      <td>0.116628</td>\n",
       "      <td>2</td>\n",
       "    </tr>\n",
       "    <tr>\n",
       "      <th>149</th>\n",
       "      <td>1.390189</td>\n",
       "      <td>-0.282661</td>\n",
       "      <td>2</td>\n",
       "    </tr>\n",
       "  </tbody>\n",
       "</table>\n",
       "<p>150 rows × 3 columns</p>\n",
       "</div>"
      ],
      "text/plain": [
       "           X1        X2  target\n",
       "0   -2.684126  0.319397       0\n",
       "1   -2.714142 -0.177001       0\n",
       "2   -2.888991 -0.144949       0\n",
       "3   -2.745343 -0.318299       0\n",
       "4   -2.728717  0.326755       0\n",
       "..        ...       ...     ...\n",
       "145  1.944110  0.187532       2\n",
       "146  1.527167 -0.375317       2\n",
       "147  1.764346  0.078859       2\n",
       "148  1.900942  0.116628       2\n",
       "149  1.390189 -0.282661       2\n",
       "\n",
       "[150 rows x 3 columns]"
      ]
     },
     "execution_count": 54,
     "metadata": {},
     "output_type": "execute_result"
    }
   ],
   "source": [
    "iris_pca.iloc[:,0:3]"
   ]
  },
  {
   "cell_type": "markdown",
   "metadata": {
    "id": "ap_kSQBpI_-V"
   },
   "source": [
    "### 6. Write a function that takes the the embedding dataframe like above and generate a scatterplot with target column as the hue.(5 marks)"
   ]
  },
  {
   "cell_type": "code",
   "execution_count": 55,
   "metadata": {},
   "outputs": [],
   "source": [
    "def plot_scatter(data_frame,kind):\n",
    "\n",
    "    from sklearn.discriminant_analysis import LinearDiscriminantAnalysis\n",
    "\n",
    "    \n",
    "\n",
    "    y = data_frame.target\n",
    "    target_names = iris.target_names\n",
    "\n",
    "   # pca = PCA(n_components=2)\n",
    "    if (kind == 'pca'):\n",
    "        #X_r = pca.fit(data_frame.iloc[:,0:2]).transform(data_frame.iloc[:,0:2])\n",
    "        X_r = data_frame.iloc[:,0:2].to_numpy()\n",
    "    \n",
    "    elif (kind == 'tsne'):\n",
    "        #X_r = tsne.fit_transform(data_frame.iloc[:,0:2])\n",
    "        X_r = data_frame.iloc[:,0:2].to_numpy()\n",
    "    else:\n",
    "        print('Wrong type entered')\n",
    "        \n",
    "\n",
    "  \n",
    "    plt.figure(figsize = (7,7) )\n",
    "    colors = ['navy', 'black', 'red']\n",
    "    lw = 2\n",
    "\n",
    "    for color, i, target_name in zip(colors, [0, 1, 2], target_names):\n",
    "        plt.scatter(X_r[y == i, 0], X_r[y == i, 1], color=color, alpha=.8, lw=lw,\n",
    "                    label=target_name)\n",
    "    plt.legend(loc='best', shadow=True, scatterpoints=1)\n",
    "  \n",
    "\n",
    "\n",
    "    plt.show()\n",
    "    print(X_r)\n",
    "   \n",
    "    "
   ]
  },
  {
   "cell_type": "markdown",
   "metadata": {
    "id": "SeHjtKyvJszr"
   },
   "source": [
    "###### 7. Call the above function with the pca embedding dataset to generate the visualisation(2 marks)"
   ]
  },
  {
   "cell_type": "code",
   "execution_count": 56,
   "metadata": {
    "id": "YRF8sGRT0jqc",
    "scrolled": false
   },
   "outputs": [
    {
     "name": "stdout",
     "output_type": "stream",
     "text": [
      "PCA embeddings visualised over target types\n",
      "\n"
     ]
    },
    {
     "data": {
      "image/png": "[encoded data removed]",
      "text/plain": [
       "<Figure size 504x504 with 1 Axes>"
      ]
     },
     "metadata": {
      "needs_background": "light"
     },
     "output_type": "display_data"
    },
    {
     "name": "stdout",
     "output_type": "stream",
     "text": [
      "[[-2.68412563  0.31939725]\n",
      " [-2.71414169 -0.17700123]\n",
      " [-2.88899057 -0.14494943]\n",
      " [-2.74534286 -0.31829898]\n",
      " [-2.72871654  0.32675451]\n",
      " [-2.28085963  0.74133045]\n",
      " [-2.82053775 -0.08946138]\n",
      " [-2.62614497  0.16338496]\n",
      " [-2.88638273 -0.57831175]\n",
      " [-2.6727558  -0.11377425]\n",
      " [-2.50694709  0.6450689 ]\n",
      " [-2.61275523  0.01472994]\n",
      " [-2.78610927 -0.235112  ]\n",
      " [-3.22380374 -0.51139459]\n",
      " [-2.64475039  1.17876464]\n",
      " [-2.38603903  1.33806233]\n",
      " [-2.62352788  0.81067951]\n",
      " [-2.64829671  0.31184914]\n",
      " [-2.19982032  0.87283904]\n",
      " [-2.5879864   0.51356031]\n",
      " [-2.31025622  0.39134594]\n",
      " [-2.54370523  0.43299606]\n",
      " [-3.21593942  0.13346807]\n",
      " [-2.30273318  0.09870885]\n",
      " [-2.35575405 -0.03728186]\n",
      " [-2.50666891 -0.14601688]\n",
      " [-2.46882007  0.13095149]\n",
      " [-2.56231991  0.36771886]\n",
      " [-2.63953472  0.31203998]\n",
      " [-2.63198939 -0.19696122]\n",
      " [-2.58739848 -0.20431849]\n",
      " [-2.4099325   0.41092426]\n",
      " [-2.64886233  0.81336382]\n",
      " [-2.59873675  1.09314576]\n",
      " [-2.63692688 -0.12132235]\n",
      " [-2.86624165  0.06936447]\n",
      " [-2.62523805  0.59937002]\n",
      " [-2.80068412  0.26864374]\n",
      " [-2.98050204 -0.48795834]\n",
      " [-2.59000631  0.22904384]\n",
      " [-2.77010243  0.26352753]\n",
      " [-2.84936871 -0.94096057]\n",
      " [-2.99740655 -0.34192606]\n",
      " [-2.40561449  0.18887143]\n",
      " [-2.20948924  0.43666314]\n",
      " [-2.71445143 -0.2502082 ]\n",
      " [-2.53814826  0.50377114]\n",
      " [-2.83946217 -0.22794557]\n",
      " [-2.54308575  0.57941002]\n",
      " [-2.70335978  0.10770608]\n",
      " [ 1.28482569  0.68516047]\n",
      " [ 0.93248853  0.31833364]\n",
      " [ 1.46430232  0.50426282]\n",
      " [ 0.18331772 -0.82795901]\n",
      " [ 1.08810326  0.07459068]\n",
      " [ 0.64166908 -0.41824687]\n",
      " [ 1.09506066  0.28346827]\n",
      " [-0.74912267 -1.00489096]\n",
      " [ 1.04413183  0.2283619 ]\n",
      " [-0.0087454  -0.72308191]\n",
      " [-0.50784088 -1.26597119]\n",
      " [ 0.51169856 -0.10398124]\n",
      " [ 0.26497651 -0.55003646]\n",
      " [ 0.98493451 -0.12481785]\n",
      " [-0.17392537 -0.25485421]\n",
      " [ 0.92786078  0.46717949]\n",
      " [ 0.66028376 -0.35296967]\n",
      " [ 0.23610499 -0.33361077]\n",
      " [ 0.94473373 -0.54314555]\n",
      " [ 0.04522698 -0.58383438]\n",
      " [ 1.11628318 -0.08461685]\n",
      " [ 0.35788842 -0.06892503]\n",
      " [ 1.29818388 -0.32778731]\n",
      " [ 0.92172892 -0.18273779]\n",
      " [ 0.71485333  0.14905594]\n",
      " [ 0.90017437  0.32850447]\n",
      " [ 1.33202444  0.24444088]\n",
      " [ 1.55780216  0.26749545]\n",
      " [ 0.81329065 -0.1633503 ]\n",
      " [-0.30558378 -0.36826219]\n",
      " [-0.06812649 -0.70517213]\n",
      " [-0.18962247 -0.68028676]\n",
      " [ 0.13642871 -0.31403244]\n",
      " [ 1.38002644 -0.42095429]\n",
      " [ 0.58800644 -0.48428742]\n",
      " [ 0.80685831  0.19418231]\n",
      " [ 1.22069088  0.40761959]\n",
      " [ 0.81509524 -0.37203706]\n",
      " [ 0.24595768 -0.2685244 ]\n",
      " [ 0.16641322 -0.68192672]\n",
      " [ 0.46480029 -0.67071154]\n",
      " [ 0.8908152  -0.03446444]\n",
      " [ 0.23054802 -0.40438585]\n",
      " [-0.70453176 -1.01224823]\n",
      " [ 0.35698149 -0.50491009]\n",
      " [ 0.33193448 -0.21265468]\n",
      " [ 0.37621565 -0.29321893]\n",
      " [ 0.64257601  0.01773819]\n",
      " [-0.90646986 -0.75609337]\n",
      " [ 0.29900084 -0.34889781]\n",
      " [ 2.53119273 -0.00984911]\n",
      " [ 1.41523588 -0.57491635]\n",
      " [ 2.61667602  0.34390315]\n",
      " [ 1.97153105 -0.1797279 ]\n",
      " [ 2.35000592 -0.04026095]\n",
      " [ 3.39703874  0.55083667]\n",
      " [ 0.52123224 -1.19275873]\n",
      " [ 2.93258707  0.3555    ]\n",
      " [ 2.32122882 -0.2438315 ]\n",
      " [ 2.91675097  0.78279195]\n",
      " [ 1.66177415  0.24222841]\n",
      " [ 1.80340195 -0.21563762]\n",
      " [ 2.1655918   0.21627559]\n",
      " [ 1.34616358 -0.77681835]\n",
      " [ 1.58592822 -0.53964071]\n",
      " [ 1.90445637  0.11925069]\n",
      " [ 1.94968906  0.04194326]\n",
      " [ 3.48705536  1.17573933]\n",
      " [ 3.79564542  0.25732297]\n",
      " [ 1.30079171 -0.76114964]\n",
      " [ 2.42781791  0.37819601]\n",
      " [ 1.19900111 -0.60609153]\n",
      " [ 3.49992004  0.4606741 ]\n",
      " [ 1.38876613 -0.20439933]\n",
      " [ 2.2754305   0.33499061]\n",
      " [ 2.61409047  0.56090136]\n",
      " [ 1.25850816 -0.17970479]\n",
      " [ 1.29113206 -0.11666865]\n",
      " [ 2.12360872 -0.20972948]\n",
      " [ 2.38800302  0.4646398 ]\n",
      " [ 2.84167278  0.37526917]\n",
      " [ 3.23067366  1.37416509]\n",
      " [ 2.15943764 -0.21727758]\n",
      " [ 1.44416124 -0.14341341]\n",
      " [ 1.78129481 -0.49990168]\n",
      " [ 3.07649993  0.68808568]\n",
      " [ 2.14424331  0.1400642 ]\n",
      " [ 1.90509815  0.04930053]\n",
      " [ 1.16932634 -0.16499026]\n",
      " [ 2.10761114  0.37228787]\n",
      " [ 2.31415471  0.18365128]\n",
      " [ 1.9222678   0.40920347]\n",
      " [ 1.41523588 -0.57491635]\n",
      " [ 2.56301338  0.2778626 ]\n",
      " [ 2.41874618  0.3047982 ]\n",
      " [ 1.94410979  0.1875323 ]\n",
      " [ 1.52716661 -0.37531698]\n",
      " [ 1.76434572  0.07885885]\n",
      " [ 1.90094161  0.11662796]\n",
      " [ 1.39018886 -0.28266094]]\n",
      "           X1        X2  target\n",
      "0   -2.684126  0.319397       0\n",
      "1   -2.714142 -0.177001       0\n",
      "2   -2.888991 -0.144949       0\n",
      "3   -2.745343 -0.318299       0\n",
      "4   -2.728717  0.326755       0\n",
      "..        ...       ...     ...\n",
      "145  1.944110  0.187532       2\n",
      "146  1.527167 -0.375317       2\n",
      "147  1.764346  0.078859       2\n",
      "148  1.900942  0.116628       2\n",
      "149  1.390189 -0.282661       2\n",
      "\n",
      "[150 rows x 3 columns]\n"
     ]
    }
   ],
   "source": [
    "# Uncomment below\n",
    "print(\"PCA embeddings visualised over target types\")\n",
    "print()\n",
    "\n",
    "\n",
    "plot_scatter(iris_pca,'pca')\n",
    "print(iris_pca)\n"
   ]
  },
  {
   "cell_type": "markdown",
   "metadata": {
    "id": "fJITkQ4MKWXO"
   },
   "source": [
    "### 8. Initialise tSNE with 2 components and generate the plot by calling the above function (3 marks)\n",
    "\n",
    " - Generate the embeddings (1)\n",
    " - Create the requried dataframe (1)\n",
    " - Call the above defined function (1)"
   ]
  },
  {
   "cell_type": "code",
   "execution_count": 42,
   "metadata": {
    "id": "V5seh5xB2dvL",
    "scrolled": false
   },
   "outputs": [
    {
     "name": "stdout",
     "output_type": "stream",
     "text": [
      "tSNE embeddings visualized over target types\n"
     ]
    },
    {
     "data": {
      "image/png": "[encoded data removed]",
      "text/plain": [
       "<Figure size 504x504 with 1 Axes>"
      ]
     },
     "metadata": {
      "needs_background": "light"
     },
     "output_type": "display_data"
    },
    {
     "name": "stdout",
     "output_type": "stream",
     "text": [
      "[[-21.111671    -8.634628  ]\n",
      " [-23.646364    -7.6626945 ]\n",
      " [-23.498318    -8.801633  ]\n",
      " [-23.936249    -8.428296  ]\n",
      " [-21.081621    -9.029933  ]\n",
      " [-18.996365    -8.43044   ]\n",
      " [-23.271088    -9.197081  ]\n",
      " [-21.765547    -8.270722  ]\n",
      " [-24.678274    -8.495091  ]\n",
      " [-23.150585    -7.819667  ]\n",
      " [-19.574938    -8.451472  ]\n",
      " [-22.392979    -7.9854484 ]\n",
      " [-23.894552    -7.9133444 ]\n",
      " [-24.763355    -9.090855  ]\n",
      " [-18.29339     -8.891178  ]\n",
      " [-18.26065     -9.203855  ]\n",
      " [-19.087355    -8.986864  ]\n",
      " [-21.04117     -8.508043  ]\n",
      " [-18.669462    -8.264771  ]\n",
      " [-20.077477    -9.092013  ]\n",
      " [-20.144964    -7.500325  ]\n",
      " [-20.316814    -8.789642  ]\n",
      " [-22.97435     -9.985865  ]\n",
      " [-21.3672      -7.1306906 ]\n",
      " [-22.308802    -6.9905944 ]\n",
      " [-23.225483    -7.2596426 ]\n",
      " [-21.534472    -7.605786  ]\n",
      " [-20.666834    -8.255377  ]\n",
      " [-21.011686    -8.217924  ]\n",
      " [-23.277086    -8.243261  ]\n",
      " [-23.305609    -7.744629  ]\n",
      " [-20.252092    -7.6432953 ]\n",
      " [-19.21264     -9.477725  ]\n",
      " [-18.612862    -9.253498  ]\n",
      " [-23.087572    -7.8517804 ]\n",
      " [-22.577251    -8.791933  ]\n",
      " [-19.762148    -7.9795904 ]\n",
      " [-21.50305     -9.255394  ]\n",
      " [-24.547598    -8.783498  ]\n",
      " [-21.400143    -8.185423  ]\n",
      " [-21.503645    -8.9205475 ]\n",
      " [-25.161009    -7.927334  ]\n",
      " [-24.17466     -9.184954  ]\n",
      " [-21.076181    -7.2140145 ]\n",
      " [-19.2871      -7.5554066 ]\n",
      " [-23.875797    -7.907159  ]\n",
      " [-20.011074    -9.111387  ]\n",
      " [-23.729702    -8.784423  ]\n",
      " [-19.847862    -8.575319  ]\n",
      " [-22.146097    -8.401561  ]\n",
      " [  7.7574444    2.730277  ]\n",
      " [  9.211775     3.4802055 ]\n",
      " [  7.4230566    3.1004846 ]\n",
      " [ 14.169618     3.311763  ]\n",
      " [  8.717264     3.5642707 ]\n",
      " [ 11.966757     3.2116966 ]\n",
      " [  9.052162     4.1834264 ]\n",
      " [ 15.64559      3.1583812 ]\n",
      " [  8.676645     3.1034303 ]\n",
      " [ 14.088559     2.587235  ]\n",
      " [ 15.522268     3.1110864 ]\n",
      " [ 11.764018     3.7063186 ]\n",
      " [ 13.945071     4.6411448 ]\n",
      " [  9.925558     4.187687  ]\n",
      " [ 14.302811     2.9580212 ]\n",
      " [  8.712578     2.7792227 ]\n",
      " [ 11.797075     2.933987  ]\n",
      " [ 13.3082       4.003914  ]\n",
      " [ 11.0268755    5.6863456 ]\n",
      " [ 14.102066     3.7178788 ]\n",
      " [  9.119841     5.4913397 ]\n",
      " [ 12.495674     4.2573986 ]\n",
      " [  7.9760337    4.9482093 ]\n",
      " [ 10.273953     4.041468  ]\n",
      " [  9.846133     3.0883877 ]\n",
      " [  8.993011     2.940978  ]\n",
      " [  7.8254156    3.2160552 ]\n",
      " [  6.9219365    3.8698776 ]\n",
      " [ 10.651471     3.9649525 ]\n",
      " [ 14.766325     3.9203944 ]\n",
      " [ 14.506005     3.5727012 ]\n",
      " [ 14.743961     3.6313055 ]\n",
      " [ 13.562079     3.8632028 ]\n",
      " [  7.832625     5.9686694 ]\n",
      " [ 12.13694      2.526425  ]\n",
      " [  9.79716      4.618996  ]\n",
      " [  8.093056     3.137981  ]\n",
      " [ 11.227424     5.4678364 ]\n",
      " [ 12.794264     3.1748629 ]\n",
      " [ 13.877877     3.1893559 ]\n",
      " [ 13.049338     2.7326972 ]\n",
      " [ 10.087742     3.9847362 ]\n",
      " [ 13.51542      3.888455  ]\n",
      " [ 15.603613     3.209776  ]\n",
      " [ 13.123084     3.1465738 ]\n",
      " [ 12.512416     3.432179  ]\n",
      " [ 12.564955     3.3988078 ]\n",
      " [ 10.662709     3.4692397 ]\n",
      " [ 15.765102     3.2464929 ]\n",
      " [ 12.999655     3.4925199 ]\n",
      " [  2.6018007    5.3139205 ]\n",
      " [  8.045576     6.734028  ]\n",
      " [  2.0964236    7.0102334 ]\n",
      " [  4.9818287    5.525789  ]\n",
      " [  3.385066     5.8357186 ]\n",
      " [  0.7093236    7.315708  ]\n",
      " [ 13.166277     1.6941913 ]\n",
      " [  1.3190868    7.531996  ]\n",
      " [  4.3154464    4.9181104 ]\n",
      " [  1.4070871    6.270506  ]\n",
      " [  4.9595747    6.5672345 ]\n",
      " [  5.6617217    5.765429  ]\n",
      " [  3.5299265    6.6288037 ]\n",
      " [  8.232965     7.085615  ]\n",
      " [  7.6235423    7.372989  ]\n",
      " [  4.021997     6.2549343 ]\n",
      " [  4.7706747    5.7669964 ]\n",
      " [  0.4807008    6.6258216 ]\n",
      " [  0.4479624    7.596221  ]\n",
      " [  9.498833     6.536823  ]\n",
      " [  2.67354      6.5753937 ]\n",
      " [  8.402822     7.017758  ]\n",
      " [  0.61431646   7.5021296 ]\n",
      " [  7.6729426    5.38116   ]\n",
      " [  2.9595113    6.3274074 ]\n",
      " [  1.7837796    7.3165503 ]\n",
      " [  8.204395     5.3564434 ]\n",
      " [  8.451621     5.593597  ]\n",
      " [  4.2660027    5.661448  ]\n",
      " [  2.0128076    7.6308174 ]\n",
      " [  1.4136927    7.523238  ]\n",
      " [  0.49889648   6.6283092 ]\n",
      " [  4.070403     5.7151346 ]\n",
      " [  7.404847     5.0819983 ]\n",
      " [  6.3237586    5.6418433 ]\n",
      " [  1.0196028    7.1270437 ]\n",
      " [  3.0897176    5.338604  ]\n",
      " [  4.812301     5.763533  ]\n",
      " [  8.78008      5.5716825 ]\n",
      " [  3.464878     6.9059577 ]\n",
      " [  3.14686      6.270387  ]\n",
      " [  3.9832604    7.1602883 ]\n",
      " [  8.04395      6.7345476 ]\n",
      " [  2.4114463    6.2971873 ]\n",
      " [  2.651659     5.9471173 ]\n",
      " [  4.101548     6.8269444 ]\n",
      " [  7.270164     5.7646627 ]\n",
      " [  4.961976     6.3315945 ]\n",
      " [  3.4391487    5.196713  ]\n",
      " [  8.223811     6.2381253 ]]\n",
      "            X1        X2  target\n",
      "0   -21.111671 -8.634628       0\n",
      "1   -23.646364 -7.662694       0\n",
      "2   -23.498318 -8.801633       0\n",
      "3   -23.936249 -8.428296       0\n",
      "4   -21.081621 -9.029933       0\n",
      "..         ...       ...     ...\n",
      "145   4.101548  6.826944       2\n",
      "146   7.270164  5.764663       2\n",
      "147   4.961976  6.331594       2\n",
      "148   3.439149  5.196713       2\n",
      "149   8.223811  6.238125       2\n",
      "\n",
      "[150 rows x 3 columns]\n"
     ]
    }
   ],
   "source": [
    "# Uncomment below\n",
    "# initialise the tSNE object\n",
    "from sklearn.manifold import TSNE\n",
    "tsne = TSNE(n_components= 2)\n",
    "\n",
    "#plot_scatter(iris_df,'tsne')\n",
    "# fit and transform and generate the required dataframe\n",
    "iris_tsne = tsne.fit_transform(iris_df[['sepal length (cm)',\n",
    " 'sepal width (cm)',\n",
    " 'petal length (cm)',\n",
    " 'petal width (cm)']])\n",
    "\n",
    "iris_tsne = pd.DataFrame(iris_tsne) \n",
    "\n",
    "# assign column names and add target column\n",
    "iris_tsne.columns = ['X1', 'X2']\n",
    "iris_tsne[\"target\"] = iris_y\n",
    "\n",
    "\n",
    "# call the function above for tsne results\n",
    "\n",
    "print(\"tSNE embeddings visualized over target types\")\n",
    "plot_scatter(iris_tsne,'tsne')\n",
    "print(iris_tsne)\n",
    "# -----------call the plotting function here-------------"
   ]
  },
  {
   "cell_type": "code",
   "execution_count": null,
   "metadata": {},
   "outputs": [],
   "source": []
  },
  {
   "cell_type": "code",
   "execution_count": null,
   "metadata": {},
   "outputs": [],
   "source": []
  }
 ],
 "metadata": {
  "colab": {
   "authorship_tag": "ABX9TyPabZo/u9DwI58SWsZl7cla",
   "collapsed_sections": [
    "zIsFUB_ZCsfN",
    "tGUzJjKCEbuE",
    "nfER_sWeDoz6",
    "ap_kSQBpI_-V",
    "SeHjtKyvJszr",
    "fJITkQ4MKWXO"
   ],
   "name": "Project PCA and tSNE - Learner's Notebook.ipynb",
   "provenance": []
  },
  "kernelspec": {
   "display_name": "Python 3",
   "language": "python",
   "name": "python3"
  },
  "language_info": {
   "codemirror_mode": {
    "name": "ipython",
    "version": 3
   },
   "file_extension": ".py",
   "mimetype": "text/x-python",
   "name": "python",
   "nbconvert_exporter": "python",
   "pygments_lexer": "ipython3",
   "version": "3.8.3"
  }
 },
 "nbformat": 4,
 "nbformat_minor": 1
}
